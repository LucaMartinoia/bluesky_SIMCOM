{
 "cells": [
  {
   "cell_type": "code",
   "execution_count": 57,
   "id": "1e5b2e2a-3d27-406c-8c7c-1fd5174b53b7",
   "metadata": {},
   "outputs": [
    {
     "name": "stdout",
     "output_type": "stream",
     "text": [
      "93185 74156\n",
      "51371 49944\n"
     ]
    }
   ],
   "source": [
    "from math import floor, cos, acos, pi\n",
    "import pyModeS as pms\n",
    "\n",
    "def int2bin(val: int, bits: int) -> str:\n",
    "    \"\"\"Convert integer to binary string with left-zero padding to 'bits' length.\"\"\"\n",
    "    return f\"{val:0{bits}b}\"\n",
    "\n",
    "def compute_NL(lat: float) -> int:\n",
    "    \"\"\"Compute NL (longitude zone number) function needed for CPR.\"\"\"\n",
    "        \n",
    "    if abs(lat) < 10**-6: # When near the equator, NL is fixed\n",
    "        return 59\n",
    "    elif abs(lat) == 87: # Might be necessary to add some tolerance in the future\n",
    "        return 2\n",
    "    elif abs(lat) > 87: # Near the poles, NL is also fixed\n",
    "        return 1\n",
    "    else: # Computes the NL\n",
    "        a = 1 - cos(pi / (2*NZ)) \n",
    "        b = cos(pi * lat / 180) ** 2\n",
    "        nl = 2 * pi / (acos(1 - a / b))\n",
    "        return int(floor(nl))\n",
    "\n",
    "lat = 52.2657\n",
    "lon = 3.91937\n",
    "\n",
    "NZ = 15 # The number of latitude zones N_z\n",
    "NL = compute_NL(lat)\n",
    "\n",
    "dLat_even = 360.0 / (4 * NZ)\n",
    "dLat_odd = 360.0 / (4 * NZ - 1)\n",
    "\n",
    "dLon_even = 360.0 / max(NL, 1)\n",
    "dLon_odd = 360.0 / max(NL-1, 1)\n",
    "\n",
    "lat_idx_even = floor(lat/dLat_even)\n",
    "lat_idx_odd = floor(lat/dLat_odd)\n",
    "\n",
    "lon_idx_even = floor(lon/dLon_even)\n",
    "lon_idx_odd = floor(lon/dLon_odd)\n",
    "\n",
    "remainder_lat_even = lat - lat_idx_even * dLat_even\n",
    "remainder_lat_odd = lat - lat_idx_odd * dLat_odd\n",
    "\n",
    "remainder_lon_even = lon - lon_idx_even * dLon_even\n",
    "remainder_lon_odd = lon - lon_idx_odd * dLon_odd\n",
    "\n",
    "scaled_lat_even = remainder_lat_even/dLat_even\n",
    "scaled_lat_odd = remainder_lat_odd/dLat_odd\n",
    "\n",
    "scaled_lon_even = remainder_lon_even/dLon_even\n",
    "scaled_lon_odd = remainder_lon_odd/dLon_odd\n",
    "\n",
    "print(int(scaled_lat_even * 2**17), int(scaled_lat_odd * 2**17))\n",
    "print(int(scaled_lon_even * 2**17), int(scaled_lon_odd * 2**17))"
   ]
  },
  {
   "cell_type": "code",
   "execution_count": 147,
   "id": "7e351f51-e701-42fd-94d2-c2b860686caf",
   "metadata": {},
   "outputs": [
    {
     "name": "stdout",
     "output_type": "stream",
     "text": [
      "262\n",
      "110000101010 12\n",
      "100010001101 12\n"
     ]
    }
   ],
   "source": [
    "alt = 130031 + 1300\n",
    "n500 = alt // 500\n",
    "n100 = (alt % 500) // 100\n",
    "\n",
    "print(n500)\n",
    "\n",
    "# Step 2: Convert both to Gray code\n",
    "gray_n500 = int2bin(int_to_gray(n500), 8)  # 8-bit\n",
    "gray_n100 = int2bin(int_to_gray(n100), 3)  # 3-bit\n",
    "graystr = gray_n500+gray_n100\n",
    "\n",
    "print(graystr, len(graystr))\n",
    "\n",
    "bitstring = ['0'] * 12\n",
    "\n",
    "bitstring[0] = graystr[8]\n",
    "bitstring[1] = graystr[2]\n",
    "bitstring[2] = graystr[9]\n",
    "bitstring[3] = graystr[3]\n",
    "bitstring[4] = graystr[10]\n",
    "bitstring[5] = graystr[4]\n",
    "bitstring[6] = graystr[5]\n",
    "bitstring[7] = '0' # Q bit\n",
    "bitstring[8] = graystr[6]\n",
    "bitstring[9] = graystr[0]\n",
    "bitstring[10] = graystr[7]\n",
    "bitstring[11] = graystr[1]\n",
    "\n",
    "print(''.join(bitstring), len(''.join(bitstring)))"
   ]
  },
  {
   "cell_type": "code",
   "execution_count": 149,
   "id": "5e1bf46f-b0af-4636-8614-eada0a1ee88e",
   "metadata": {},
   "outputs": [
    {
     "data": {
      "text/plain": [
       "63600"
      ]
     },
     "execution_count": 149,
     "metadata": {},
     "output_type": "execute_result"
    }
   ],
   "source": [
    "def gray2alt(binstr: str):\n",
    "    gc500 = binstr[:8]\n",
    "    n500 = gray2int(gc500)\n",
    "\n",
    "    # in 100-ft step must be converted first\n",
    "    gc100 = binstr[8:]\n",
    "    n100 = gray2int(gc100)\n",
    "\n",
    "    if n100 in [0, 5, 6]:\n",
    "        return None\n",
    "\n",
    "    if n100 == 7:\n",
    "        n100 = 5\n",
    "\n",
    "    if n500 % 2:\n",
    "        n100 = 6 - n100\n",
    "\n",
    "    alt = (n500 * 500 + n100 * 100) - 1300\n",
    "    return alt\n",
    "\n",
    "gray2alt('110000101010')"
   ]
  },
  {
   "cell_type": "code",
   "execution_count": 156,
   "id": "eec691dd-d777-4bfd-bacd-23edd8ebd6da",
   "metadata": {},
   "outputs": [
    {
     "name": "stdout",
     "output_type": "stream",
     "text": [
      "                     Message: 8DC946C8499B866AF48CDECDB6CB \n",
      "                ICAO address: C946C8 \n",
      "             Downlink Format: 17 \n",
      "                    Protocol: Mode-S Extended Squitter (ADS-B) \n",
      "                        Type: Airborne position (with barometric altitude) \n",
      "                  CPR format: Odd \n",
      "                CPR Latitude: 0.6044464111328125 \n",
      "               CPR Longitude: 0.2751312255859375 \n",
      "                    Altitude: 30000 feet\n"
     ]
    }
   ],
   "source": [
    "pms.tell('8DC946C8499B866AF48CDECDB6CB')"
   ]
  },
  {
   "cell_type": "code",
   "execution_count": null,
   "id": "db5f69c7-79ec-415c-83c9-e05362edf205",
   "metadata": {},
   "outputs": [],
   "source": []
  }
 ],
 "metadata": {
  "kernelspec": {
   "display_name": "Python 3 (ipykernel)",
   "language": "python",
   "name": "python3"
  },
  "language_info": {
   "codemirror_mode": {
    "name": "ipython",
    "version": 3
   },
   "file_extension": ".py",
   "mimetype": "text/x-python",
   "name": "python",
   "nbconvert_exporter": "python",
   "pygments_lexer": "ipython3",
   "version": "3.13.2"
  }
 },
 "nbformat": 4,
 "nbformat_minor": 5
}
